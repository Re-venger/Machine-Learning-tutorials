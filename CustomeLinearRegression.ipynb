{
  "nbformat": 4,
  "nbformat_minor": 0,
  "metadata": {
    "colab": {
      "provenance": [],
      "authorship_tag": "ABX9TyPVO4Pf5KyDNFFvjddktXOR",
      "include_colab_link": true
    },
    "kernelspec": {
      "name": "python3",
      "display_name": "Python 3"
    },
    "language_info": {
      "name": "python"
    }
  },
  "cells": [
    {
      "cell_type": "markdown",
      "metadata": {
        "id": "view-in-github",
        "colab_type": "text"
      },
      "source": [
        "<a href=\"https://colab.research.google.com/github/Re-venger/Machine-Learning-tutorials/blob/main/CustomeLinearRegression.ipynb\" target=\"_parent\"><img src=\"https://colab.research.google.com/assets/colab-badge.svg\" alt=\"Open In Colab\"/></a>"
      ]
    },
    {
      "cell_type": "markdown",
      "source": [
        "# Custom Implementation of Linear Regression (using mathematical concepts)  "
      ],
      "metadata": {
        "id": "n5cj1Z-o5-29"
      }
    },
    {
      "cell_type": "markdown",
      "source": [
        "## Walkthrough\n",
        "\n",
        "1. In linear regression training a model means estimation of the very approximate values of m, b to get the line of best fit that has the minimum number of errors"
      ],
      "metadata": {
        "id": "dksHr1j26g0O"
      }
    },
    {
      "cell_type": "code",
      "execution_count": 41,
      "metadata": {
        "id": "rku0-DPH59Rp"
      },
      "outputs": [],
      "source": [
        "class CustomeLR:\n",
        "\n",
        "  def __init__(self):\n",
        "    self.m = None\n",
        "    self.b = None\n",
        "\n",
        "  def fit(self,X_train,y_train):\n",
        "\n",
        "    num = 0\n",
        "    den = 0\n",
        "    x_mean = X_train.mean()\n",
        "    y_mean = y_train.mean()\n",
        "    for i in range(X_train.shape[0]):\n",
        "      num = num + ((X_train[i] - x_mean) * (y_train[i] - y_mean))\n",
        "      den = den + ((X_train[i] - x_mean) ** 2)\n",
        "\n",
        "    self.m = num/den\n",
        "    self.b = y_mean - (self.m * x_mean)\n",
        "    print(self.m)\n",
        "    print(self.b)\n",
        "\n",
        "\n",
        "\n",
        "  def predict(self,x_test):\n",
        "    # y' = (self.m * x_test) + self.b\n",
        "    return {\"cgpa\" : x_test, \"package(Lacs)\": self.m * x_test + self.b}\n",
        "\n",
        "  def coeff_(self):\n",
        "    return self.m\n",
        "\n",
        "  def intercept_(self):\n",
        "    return self.b\n",
        ""
      ]
    },
    {
      "cell_type": "code",
      "source": [
        "import matplotlib.pyplot as plt\n",
        "import numpy as np\n",
        "import pandas as pd\n",
        "np.set_printoptions(legacy='1.25')"
      ],
      "metadata": {
        "id": "fB2NJ-gL63MQ"
      },
      "execution_count": 42,
      "outputs": []
    },
    {
      "cell_type": "code",
      "source": [
        "df = pd.read_csv(\"placement.csv\")"
      ],
      "metadata": {
        "id": "Mm2CXFKS69NS"
      },
      "execution_count": 43,
      "outputs": []
    },
    {
      "cell_type": "code",
      "source": [
        "x = df.iloc[:, 0].values\n",
        "y = df.iloc[:, 1].values"
      ],
      "metadata": {
        "id": "ooaKp9JS7EyS"
      },
      "execution_count": 44,
      "outputs": []
    },
    {
      "cell_type": "code",
      "source": [
        "from sklearn.model_selection import train_test_split\n",
        "x_train, x_test, y_train, y_test = train_test_split(x, y, test_size=0.2, random_state=2)"
      ],
      "metadata": {
        "id": "AHsU7eFK7MWq"
      },
      "execution_count": 45,
      "outputs": []
    },
    {
      "cell_type": "code",
      "source": [
        "x_train.shape"
      ],
      "metadata": {
        "colab": {
          "base_uri": "https://localhost:8080/"
        },
        "id": "rUoxwRf-7Umr",
        "outputId": "9bfba1c6-3b2c-4f4f-a709-ddd27c9a81c2"
      },
      "execution_count": 46,
      "outputs": [
        {
          "output_type": "execute_result",
          "data": {
            "text/plain": [
              "(160,)"
            ]
          },
          "metadata": {},
          "execution_count": 46
        }
      ]
    },
    {
      "cell_type": "code",
      "source": [
        "custom_regressor = CustomeLR()\n",
        "custom_regressor.fit(x_train, y_train)"
      ],
      "metadata": {
        "colab": {
          "base_uri": "https://localhost:8080/"
        },
        "id": "vTkB7g5E7XMr",
        "outputId": "b2db7788-f346-4717-c1f5-484274a39bd4"
      },
      "execution_count": 47,
      "outputs": [
        {
          "output_type": "stream",
          "name": "stdout",
          "text": [
            "0.5579519734250721\n",
            "-0.8961119222429152\n"
          ]
        }
      ]
    },
    {
      "cell_type": "code",
      "source": [
        "custom_regressor.intercept_()"
      ],
      "metadata": {
        "colab": {
          "base_uri": "https://localhost:8080/"
        },
        "id": "RrmrgF9a7m7F",
        "outputId": "f4af15d3-a701-4a54-dc3b-e93090ad40bb"
      },
      "execution_count": 48,
      "outputs": [
        {
          "output_type": "execute_result",
          "data": {
            "text/plain": [
              "-0.8961119222429152"
            ]
          },
          "metadata": {},
          "execution_count": 48
        }
      ]
    },
    {
      "cell_type": "code",
      "source": [
        "custom_regressor.predict(x_test[0])"
      ],
      "metadata": {
        "colab": {
          "base_uri": "https://localhost:8080/"
        },
        "id": "LbHQYbAU9ghQ",
        "outputId": "f5f57cd9-edd0-4b2f-8811-2c71fe6bffe3"
      },
      "execution_count": 49,
      "outputs": [
        {
          "output_type": "execute_result",
          "data": {
            "text/plain": [
              "{'cgpa': 8.58, 'package(Lacs)': 3.891116009744203}"
            ]
          },
          "metadata": {},
          "execution_count": 49
        }
      ]
    },
    {
      "cell_type": "code",
      "source": [],
      "metadata": {
        "id": "yNBWfU6f99YL"
      },
      "execution_count": 49,
      "outputs": []
    }
  ]
}